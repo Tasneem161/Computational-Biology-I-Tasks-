{
 "cells": [
  {
   "cell_type": "code",
   "execution_count": 1,
   "metadata": {},
   "outputs": [
    {
     "name": "stdout",
     "output_type": "stream",
     "text": [
      "Protein Identifier - IdentificationRun1\n",
      "Peptide Identifier - IdentificationRun1\n"
     ]
    }
   ],
   "source": [
    "from pyopenms import *\n",
    "protein_id = ProteinIdentification()\n",
    "peptide_id = PeptideIdentification()\n",
    "protein_id.setIdentifier(\"IdentificationRun1\")\n",
    "peptide_id.setIdentifier(\"IdentificationRun1\")\n",
    "print(\"Protein Identifier -\", protein_id.getIdentifier())\n",
    "print(\"Peptide Identifier -\", peptide_id.getIdentifier())"
   ]
  },
  {
   "cell_type": "code",
   "execution_count": 8,
   "metadata": {},
   "outputs": [],
   "source": [
    "protein_id = ProteinIdentification()\n",
    "protein_id.setIdentifier(\"IdentificationRun1\")\n",
    "protein_hit = ProteinHit()\n",
    "protein_hit.setAccession(\"sp|MyAccession\")\n",
    "protein_hit.setSequence(\"PEPTIDERDLQMTQSPSSLSVSVGDRPEPTIDE\")\n",
    "protein_hit.setScore(1.0)\n",
    "protein_hit.setMetaValue(\"target_decoy\", b\"target\") \n",
    "protein_id.setHits([protein_hit])"
   ]
  },
  {
   "cell_type": "code",
   "execution_count": 11,
   "metadata": {},
   "outputs": [
    {
     "name": "stdout",
     "output_type": "stream",
     "text": [
      "Protein hit accession: sp|MyAccession\n",
      "Protein hit sequence: PEPTIDERDLQMTQSPSSLSVSVGDRPEPTIDE\n",
      "Protein hit score: 1.0\n"
     ]
    }
   ],
   "source": [
    "print(\"Protein hit accession:\", hit.getAccession())\n",
    "print(\"Protein hit sequence:\", hit.getSequence())\n",
    "print(\"Protein hit score:\", hit.getScore())"
   ]
  },
  {
   "cell_type": "code",
   "execution_count": null,
   "metadata": {},
   "outputs": [],
   "source": []
  }
 ],
 "metadata": {
  "kernelspec": {
   "display_name": "Python 3",
   "language": "python",
   "name": "python3"
  },
  "language_info": {
   "codemirror_mode": {
    "name": "ipython",
    "version": 3
   },
   "file_extension": ".py",
   "mimetype": "text/x-python",
   "name": "python",
   "nbconvert_exporter": "python",
   "pygments_lexer": "ipython3",
   "version": "3.8.8"
  }
 },
 "nbformat": 4,
 "nbformat_minor": 4
}
