{
 "cells": [
  {
   "cell_type": "code",
   "execution_count": 1,
   "id": "65b56053",
   "metadata": {},
   "outputs": [],
   "source": [
    "from pyopenms import *"
   ]
  },
  {
   "cell_type": "code",
   "execution_count": 2,
   "id": "4d2e7e95",
   "metadata": {},
   "outputs": [
    {
     "name": "stdout",
     "output_type": "stream",
     "text": [
      "MK\n",
      "VSTIFAAASALFAATTTLAQDVACLVDNQQVAVVDLDTGVCPFTIPASLAAFFTFVSLEEYNVQFYYTIVNNVR\n",
      "YNTDIR\n",
      "NAGK\n",
      "VINVPAR\n",
      "NLYGAGAVPFFQVHLEK\n",
      "QLEANSTAAIR\n",
      "R\n",
      "R\n",
      "LMGETPIVK\n",
      "R\n",
      "DQIDDFIASIENTEGTALEGSTLEVVDYVPGSSSASPSGSASPSGSESGSGSDSATIR\n",
      "STTVVSSSSCESSGDSAATATGANGESTVTEQNTVVVTITSCHNDACHATTVPATASIGVTTVHGTETIFTTYCPLSSYETVESTK\n",
      "VITITSCSENK\n",
      "CQETTVEATPSTATTVSEGVVTEYVTYCPVSSVETVASTK\n",
      "VITVVACDEHK\n",
      "CHETTAVATPTEVTTVVEGSTTHYVTYKPTGSGPTQGETYATNAITSEGTVYVPK\n",
      "TTAVTTHGSTFETVAYITVTK\n",
      "ATPTK\n",
      "GGEQHQPGSPAGAATSAPGAPAPGASGAHASTANK\n",
      "VTVEAQATPGTLTPENTVAGGVNGEQVAVSAK\n",
      "TTISQTTVAK\n",
      "ASGSGK\n",
      "AAISTFEGAAAASAGASVLALALIPLAYFI\n"
     ]
    }
   ],
   "source": [
    "dig = ProteaseDigestion()\n",
    "dig.getEnzymeName()\n",
    "seq = \"\".join([l.strip()\n",
    "for l in open(\"uniprot-yourlist_M20211212A084FC58F6BBA219896F365D15F2EB4435A9B8B.fasta\").readlines()[1:]])\n",
    "Sample = AASequence.fromString(seq)\n",
    "result = []\n",
    "dig.digest(Sample, result)\n",
    "for x in result:\n",
    "    print(x)"
   ]
  },
  {
   "cell_type": "code",
   "execution_count": 4,
   "id": "4222ad49",
   "metadata": {},
   "outputs": [
    {
     "name": "stdout",
     "output_type": "stream",
     "text": [
      "VINVPAR\n"
     ]
    },
    {
     "data": {
      "text/plain": [
       "24"
      ]
     },
     "execution_count": 4,
     "metadata": {},
     "output_type": "execute_result"
    }
   ],
   "source": [
    "result = []\n",
    "dig.digest(Sample, result)\n",
    "print(result[4].toString())\n",
    "len(result) "
   ]
  },
  {
   "cell_type": "code",
   "execution_count": null,
   "id": "63373687",
   "metadata": {},
   "outputs": [],
   "source": []
  }
 ],
 "metadata": {
  "kernelspec": {
   "display_name": "Python 3",
   "language": "python",
   "name": "python3"
  },
  "language_info": {
   "codemirror_mode": {
    "name": "ipython",
    "version": 3
   },
   "file_extension": ".py",
   "mimetype": "text/x-python",
   "name": "python",
   "nbconvert_exporter": "python",
   "pygments_lexer": "ipython3",
   "version": "3.8.8"
  }
 },
 "nbformat": 4,
 "nbformat_minor": 5
}
