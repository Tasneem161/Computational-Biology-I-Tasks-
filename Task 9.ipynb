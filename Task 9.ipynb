{
 "cells": [
  {
   "cell_type": "code",
   "execution_count": 1,
   "metadata": {},
   "outputs": [],
   "source": [
    "from pyopenms import *\n",
    "from urllib.request import urlretrieve\n",
    "gh = \"https://raw.githubusercontent.com/OpenMS/pyopenms-extra/master\"\n",
    "urlretrieve (\"https://raw.githubusercontent.com/OpenMS/pyopenms-extra/master/src/data/SimpleSearchEngine_1.mzML\", \"searchfile.mzML\")\n",
    "urlretrieve (\"https://raw.githubusercontent.com/OpenMS/pyopenms-extra/master/src/data/SimpleSearchEngine_1.fasta\", \"search.fasta\")\n",
    "protein_ids = []\n",
    "peptide_ids = []\n",
    "SimpleSearchEngineAlgorithm().search(\"searchfile.mzML\", \"search.fasta\", protein_ids, peptide_ids)"
   ]
  },
  {
   "cell_type": "code",
   "execution_count": 2,
   "metadata": {},
   "outputs": [
    {
     "name": "stdout",
     "output_type": "stream",
     "text": [
      "===================================\n",
      "Peptide ID m/z: 520.262817382812\n",
      "Peptide ID rt: 2655.095703125\n",
      "Peptide scan index: 0\n",
      "Peptide scan name: 0\n",
      "Peptide ID score type: hyperscore\n",
      " - Peptide hit rank: 1\n",
      " - Peptide hit charge: 3\n",
      " - Peptide hit sequence: DFASSGGYVLHLHR\n",
      " - Peptide hit monoisotopic m/z: 520.2635538953376\n",
      " - Peptide ppm error: 1.4156527399679193\n",
      " - Peptide hit score: 16.84163475036621\n",
      "===================================\n",
      "Peptide ID m/z: 1063.20983886719\n",
      "Peptide ID rt: 4587.6689453125\n",
      "Peptide scan index: 1\n",
      "Peptide scan name: 1\n",
      "Peptide ID score type: hyperscore\n",
      " - Peptide hit rank: 1\n",
      " - Peptide hit charge: 3\n",
      " - Peptide hit sequence: IALSRPNVEVVALNDPFITNDYAAYM(Oxidation)FK\n",
      " - Peptide hit monoisotopic m/z: 1063.2092724146712\n",
      " - Peptide ppm error: 0.5327761274224441\n",
      " - Peptide hit score: 42.21834182739258\n",
      "===================================\n",
      "Peptide ID m/z: 775.38720703125\n",
      "Peptide ID rt: 4923.77734375\n",
      "Peptide scan index: 2\n",
      "Peptide scan name: 2\n",
      "Peptide ID score type: hyperscore\n",
      " - Peptide hit rank: 1\n",
      " - Peptide hit charge: 3\n",
      " - Peptide hit sequence: RPGADSDIGGFGGLFDLAQAGFR\n",
      " - Peptide hit monoisotopic m/z: 775.3854614376377\n",
      " - Peptide ppm error: 2.2512591467609693\n",
      " - Peptide hit score: 34.93666076660156\n"
     ]
    }
   ],
   "source": [
    "for peptide_id in peptide_ids:\n",
    "  print (\"Peptide ID m/z:\", peptide_id.getMZ())\n",
    "  print (\"Peptide ID rt:\", peptide_id.getRT())\n",
    "  print (\"Peptide ID score type:\", peptide_id.getScoreType())\n",
    "  for hit in peptide_id.getHits():\n",
    "    print(\" - Peptide hit rank:\", hit.getRank())\n",
    "    print(\" - Peptide hit charge:\", hit.getCharge())\n",
    "    print(\" - Peptide hit sequence:\", hit.getSequence())\n",
    "    mz = hit.getSequence().getMonoWeight(Residue.ResidueType.Full, hit.getCharge()) / hit.getCharge()\n",
    "    print(\" - Peptide hit monoisotopic m/z:\", mz)\n",
    "    print(\" - Peptide ppm error:\", abs(mz - peptide_id.getMZ())/mz *10**6 )\n",
    "    print(\" - Peptide hit score:\", hit.getScore())"
   ]
  },
  {
   "cell_type": "code",
   "execution_count": null,
   "metadata": {},
   "outputs": [],
   "source": []
  }
 ],
 "metadata": {
  "kernelspec": {
   "display_name": "Python 3",
   "language": "python",
   "name": "python3"
  },
  "language_info": {
   "codemirror_mode": {
    "name": "ipython",
    "version": 3
   },
   "file_extension": ".py",
   "mimetype": "text/x-python",
   "name": "python",
   "nbconvert_exporter": "python",
   "pygments_lexer": "ipython3",
   "version": "3.8.8"
  }
 },
 "nbformat": 4,
 "nbformat_minor": 4
}
