{
 "cells": [
  {
   "cell_type": "code",
   "execution_count": 3,
   "metadata": {},
   "outputs": [
    {
     "name": "stdout",
     "output_type": "stream",
     "text": [
      "DTHK\n"
     ]
    },
    {
     "data": {
      "text/plain": [
       "82"
      ]
     },
     "execution_count": 3,
     "metadata": {},
     "output_type": "execute_result"
    }
   ],
   "source": [
    "from pyopenms import *\n",
    "from urllib.request import urlretrieve\n",
    "urlretrieve (\"https://raw.githubusercontent.com/OpenMS/pyopenms-extra/master/src/data/P02769.fasta\", \"bsa.fasta\")\n",
    "dig = ProteaseDigestion()\n",
    "dig.getEnzymeName() \n",
    "bsa = \"\".join([l.strip() for l in open(\"bsa.fasta\").readlines()[1:]])\n",
    "bsa = AASequence.fromString(bsa)\n",
    "result = []\n",
    "dig.digest(bsa, result)\n",
    "print(result[4].toString())\n",
    "len(result) "
   ]
  },
  {
   "cell_type": "code",
   "execution_count": 4,
   "metadata": {},
   "outputs": [
    {
     "name": "stdout",
     "output_type": "stream",
     "text": [
      "MK\n",
      "WVTFISLLLLFSSAYSR\n",
      "GVFR\n",
      "R\n",
      "DTHK\n",
      "SEIAHR\n",
      "FK\n",
      "DLGEEHFK\n",
      "GLVLIAFSQYLQQCPFDEHVK\n",
      "LVNELTEFAK\n",
      "TCVADESHAGCEK\n",
      "SLHTLFGDELCK\n",
      "VASLR\n",
      "ETYGDMADCCEK\n",
      "QEPER\n",
      "NECFLSHK\n",
      "DDSPDLPK\n",
      "LKPDPNTLCDEFK\n",
      "ADEK\n",
      "K\n",
      "FWGK\n",
      "YLYEIAR\n",
      "R\n",
      "HPYFYAPELLYYANK\n",
      "YNGVFQECCQAEDK\n",
      "GACLLPK\n",
      "IETMR\n",
      "EK\n",
      "VLASSAR\n",
      "QR\n",
      "LR\n",
      "CASIQK\n",
      "FGER\n",
      "ALK\n",
      "AWSVAR\n",
      "LSQK\n",
      "FPK\n",
      "AEFVEVTK\n",
      "LVTDLTK\n",
      "VHK\n",
      "ECCHGDLLECADDR\n",
      "ADLAK\n",
      "YICDNQDTISSK\n",
      "LK\n",
      "ECCDKPLLEK\n",
      "SHCIAEVEK\n",
      "DAIPENLPPLTADFAEDK\n",
      "DVCK\n",
      "NYQEAK\n",
      "DAFLGSFLYEYSR\n",
      "R\n",
      "HPEYAVSVLLR\n",
      "LAK\n",
      "EYEATLEECCAK\n",
      "DDPHACYSTVFDK\n",
      "LK\n",
      "HLVDEPQNLIK\n",
      "QNCDQFEK\n",
      "LGEYGFQNALIVR\n",
      "YTR\n",
      "K\n",
      "VPQVSTPTLVEVSR\n",
      "SLGK\n",
      "VGTR\n",
      "CCTKPESER\n",
      "MPCTEDYLSLILNR\n",
      "LCVLHEK\n",
      "TPVSEK\n",
      "VTK\n",
      "CCTESLVNR\n",
      "RPCFSALTPDETYVPK\n",
      "AFDEK\n",
      "LFTFHADICTLPDTEK\n",
      "QIK\n",
      "K\n",
      "QTALVELLK\n",
      "HKPK\n",
      "ATEEQLK\n",
      "TVMENFVAFVDK\n",
      "CCAADDK\n",
      "EACFAVEGPK\n",
      "LVVSTQTALA\n"
     ]
    }
   ],
   "source": [
    "for s in result:\n",
    "    print(s.toString())"
   ]
  },
  {
   "cell_type": "code",
   "execution_count": 5,
   "metadata": {},
   "outputs": [
    {
     "name": "stdout",
     "output_type": "stream",
     "text": [
      "b'Trypsin'\n",
      "b'Arg-C'\n",
      "b'Asp-N_ambic'\n",
      "b'Chymotrypsin/P'\n",
      "b'TrypChymo'\n",
      "b'Asp-N'\n",
      "b'CNBr'\n",
      "b'Formic_acid'\n",
      "b'Lys-C'\n",
      "b'Lys-C/P'\n",
      "b'Asp-N/B'\n",
      "b'Lys-N'\n",
      "b'PepsinA'\n",
      "b'Trypsin/P'\n",
      "b'Chymotrypsin'\n",
      "b'Arg-C/P'\n",
      "b'V8-DE'\n",
      "b'PepsinA + P'\n",
      "b'Glu-C+P'\n",
      "b'V8-E'\n",
      "b'Clostripain/P'\n",
      "b'no cleavage'\n",
      "b'cyanogen-bromide'\n",
      "b'unspecific cleavage'\n",
      "b'glutamyl endopeptidase'\n",
      "b'proline endopeptidase'\n",
      "b'2-iodobenzoate'\n",
      "b'proline-endopeptidase/HKR'\n",
      "b'leukocyte elastase'\n",
      "b'elastase-trypsin-chymotrypsin'\n",
      "b'staphylococcal protease/D'\n",
      "b'Alpha-lytic protease'\n",
      "b'iodosobenzoate'\n"
     ]
    },
    {
     "data": {
      "text/plain": [
       "'(?<=[KX])(?!P)'"
      ]
     },
     "execution_count": 5,
     "metadata": {},
     "output_type": "execute_result"
    }
   ],
   "source": [
    "names = []\n",
    "ProteaseDB().getAllNames(names)\n",
    "len(names) \n",
    "for i in names:\n",
    "    print(i)\n"
   ]
  },
  {
   "cell_type": "code",
   "execution_count": 6,
   "metadata": {},
   "outputs": [
    {
     "name": "stdout",
     "output_type": "stream",
     "text": [
      "MK\n",
      "WVTFISLLLLFSSAYSRGVFRRDTHK\n",
      "SEIAHRFK\n",
      "DLGEEHFK\n",
      "GLVLIAFSQYLQQCPFDEHVK\n",
      "LVNELTEFAK\n",
      "TCVADESHAGCEK\n",
      "SLHTLFGDELCK\n",
      "VASLRETYGDMADCCEK\n",
      "QEPERNECFLSHK\n",
      "DDSPDLPK\n",
      "LKPDPNTLCDEFK\n",
      "ADEK\n",
      "K\n",
      "FWGK\n",
      "YLYEIARRHPYFYAPELLYYANK\n",
      "YNGVFQECCQAEDK\n",
      "GACLLPK\n",
      "IETMREK\n",
      "VLASSARQRLRCASIQK\n",
      "FGERALK\n",
      "AWSVARLSQK\n",
      "FPK\n",
      "AEFVEVTK\n",
      "LVTDLTK\n",
      "VHK\n",
      "ECCHGDLLECADDRADLAK\n",
      "YICDNQDTISSK\n",
      "LK\n",
      "ECCDKPLLEK\n",
      "SHCIAEVEK\n",
      "DAIPENLPPLTADFAEDK\n",
      "DVCK\n",
      "NYQEAK\n",
      "DAFLGSFLYEYSRRHPEYAVSVLLRLAK\n",
      "EYEATLEECCAK\n",
      "DDPHACYSTVFDK\n",
      "LK\n",
      "HLVDEPQNLIK\n",
      "QNCDQFEK\n",
      "LGEYGFQNALIVRYTRK\n",
      "VPQVSTPTLVEVSRSLGK\n",
      "VGTRCCTKPESERMPCTEDYLSLILNRLCVLHEK\n",
      "TPVSEK\n",
      "VTK\n",
      "CCTESLVNRRPCFSALTPDETYVPK\n",
      "AFDEK\n",
      "LFTFHADICTLPDTEK\n",
      "QIK\n",
      "K\n",
      "QTALVELLK\n",
      "HKPK\n",
      "ATEEQLK\n",
      "TVMENFVAFVDK\n",
      "CCAADDK\n",
      "EACFAVEGPK\n",
      "LVVSTQTALA\n"
     ]
    }
   ],
   "source": [
    "from urllib.request import urlretrieve\n",
    "urlretrieve (\"https://raw.githubusercontent.com/OpenMS/pyopenms-extra/master/src/data/P02769.fasta\", \"bsa.fasta\")\n",
    "dig = ProteaseDigestion()\n",
    "dig.setEnzyme('Lys-C')\n",
    "bsa = \"\".join([l.strip() for l in open(\"bsa.fasta\").readlines()[1:]])\n",
    "bsa = AASequence.fromString(bsa)\n",
    "result = []\n",
    "dig.digest(bsa, result)\n",
    "len(result)\n",
    "for i in result:\n",
    "    print(i)"
   ]
  },
  {
   "cell_type": "code",
   "execution_count": null,
   "metadata": {},
   "outputs": [],
   "source": []
  }
 ],
 "metadata": {
  "kernelspec": {
   "display_name": "Python 3",
   "language": "python",
   "name": "python3"
  },
  "language_info": {
   "codemirror_mode": {
    "name": "ipython",
    "version": 3
   },
   "file_extension": ".py",
   "mimetype": "text/x-python",
   "name": "python",
   "nbconvert_exporter": "python",
   "pygments_lexer": "ipython3",
   "version": "3.8.8"
  }
 },
 "nbformat": 4,
 "nbformat_minor": 4
}
